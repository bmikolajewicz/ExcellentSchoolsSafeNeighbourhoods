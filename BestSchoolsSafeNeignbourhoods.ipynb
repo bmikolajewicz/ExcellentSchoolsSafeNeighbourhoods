{
    "nbformat_minor": 1, 
    "cells": [
        {
            "source": "## A. Introduction\n\n\n\n", 
            "cell_type": "markdown", 
            "metadata": {}
        }, 
        {
            "source": "### A.1 Business Problem", 
            "cell_type": "markdown", 
            "metadata": {}
        }, 
        {
            "source": "\nToronto is the largest city in Canada and the provincial capital of Ontario. The crime rates in Toronto are relatively low in comparison to other major cities. The city is home to a number of elementary, secondary and post-secondary institutions. \n\nFor this project I will use a case for a family that relocating to Toronto and has to make a decision what neighbourhood is the best choice.\nThey have 3 kids, aged 12-15, so the two top criteria ar: the safety of the neighbourhood and proximity of great secondary schools.", 
            "cell_type": "markdown", 
            "metadata": {}
        }, 
        {
            "source": "### A.2 Data", 
            "cell_type": "markdown", 
            "metadata": {}
        }, 
        {
            "source": "To address the Business Problem, the following data will be used:\n1. Lists of neighborhoods in Toronto obtained from Wikipedia [1]\n2. List of Secondary Schools in Toronto along with their ratings, obtained from Fraser Institute for 2017-2018[2]\n3. Coordinates of Secondary Schools located in Toronto neighbourhoods from Foursquare API [3]\n4. Coordinates of crimes that have occured between 2014-2018 in Toronto was downloaded from the Toronto Police Serve Public Safety Data Portal [4]", 
            "cell_type": "markdown", 
            "metadata": {}
        }
    ], 
    "nbformat": 4, 
    "metadata": {
        "kernelspec": {
            "display_name": "Python 3.6", 
            "name": "python3", 
            "language": "python"
        }, 
        "language_info": {
            "mimetype": "text/x-python", 
            "nbconvert_exporter": "python", 
            "version": "3.6.8", 
            "name": "python", 
            "pygments_lexer": "ipython3", 
            "file_extension": ".py", 
            "codemirror_mode": {
                "version": 3, 
                "name": "ipython"
            }
        }
    }
}